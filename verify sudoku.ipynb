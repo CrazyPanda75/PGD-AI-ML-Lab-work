{
 "cells": [
  {
   "cell_type": "code",
   "execution_count": 15,
   "metadata": {},
   "outputs": [],
   "source": [
    "import numpy as np"
   ]
  },
  {
   "cell_type": "code",
   "execution_count": 16,
   "metadata": {},
   "outputs": [
    {
     "name": "stdout",
     "output_type": "stream",
     "text": [
      "[[7 4 8 3 9 1 5 6 2]\n",
      " [3 6 5 2 4 8 7 9 1]\n",
      " [9 1 2 6 7 5 4 8 3]\n",
      " [4 2 1 7 8 6 9 3 5]\n",
      " [5 8 9 4 1 3 2 7 6]\n",
      " [6 7 3 5 2 9 8 1 4]\n",
      " [8 3 4 9 6 2 1 5 7]\n",
      " [2 9 6 1 5 7 3 4 8]\n",
      " [1 5 7 8 3 4 6 2 9]]\n"
     ]
    }
   ],
   "source": [
    "grid=input('enter sudoku') #takes in 1d sudoku eg 748391562365248791912675483421786935589413276673529814834962157296157348157834629\n",
    "grid = [int(i) for i in str(grid)]\n",
    "grid = np.asarray(grid)\n",
    "grid = grid.reshape(9,9)\n",
    "print (grid)"
   ]
  },
  {
   "cell_type": "code",
   "execution_count": 17,
   "metadata": {},
   "outputs": [],
   "source": [
    "def verify(grid):\n",
    "    #row\n",
    "    for i in range (9):\n",
    "        if len(np.unique(grid[i])) < len(grid[i]):\n",
    "            return False\n",
    "\n",
    "    #col\n",
    "    for j in range (9):\n",
    "        if len(np.unique(grid[:,j])) < len(grid[:,j]):\n",
    "            return False\n",
    "        \n",
    "    #square\n",
    "    grid=grid.reshape((3, 3, 3, 3)).swapaxes(1, 2).reshape((9,9))\n",
    "    for k in range (9):\n",
    "        if len(np.unique(grid[k])) < len(grid[k]):\n",
    "            return False\n",
    "    return True"
   ]
  },
  {
   "cell_type": "code",
   "execution_count": 18,
   "metadata": {},
   "outputs": [
    {
     "name": "stdout",
     "output_type": "stream",
     "text": [
      "True\n"
     ]
    }
   ],
   "source": [
    "print(verify(grid)) #returns True if sudoku is valid"
   ]
  }
 ],
 "metadata": {
  "kernelspec": {
   "display_name": "Python 3",
   "language": "python",
   "name": "python3"
  },
  "language_info": {
   "codemirror_mode": {
    "name": "ipython",
    "version": 3
   },
   "file_extension": ".py",
   "mimetype": "text/x-python",
   "name": "python",
   "nbconvert_exporter": "python",
   "pygments_lexer": "ipython3",
   "version": "3.10.7"
  },
  "orig_nbformat": 4
 },
 "nbformat": 4,
 "nbformat_minor": 2
}
