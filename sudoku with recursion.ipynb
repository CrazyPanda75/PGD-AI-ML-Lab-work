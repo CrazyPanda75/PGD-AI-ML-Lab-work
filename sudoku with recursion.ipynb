{
 "cells": [
  {
   "cell_type": "code",
   "execution_count": 56,
   "metadata": {},
   "outputs": [],
   "source": [
    "import numpy as np"
   ]
  },
  {
   "cell_type": "code",
   "execution_count": 61,
   "metadata": {},
   "outputs": [
    {
     "name": "stdout",
     "output_type": "stream",
     "text": [
      "[[0 4 8 3 0 1 5 6 0]\n",
      " [3 6 0 0 0 8 0 9 0]\n",
      " [9 1 0 6 7 0 0 0 3]\n",
      " [0 2 0 0 0 0 9 3 5]\n",
      " [5 0 9 0 1 0 2 0 0]\n",
      " [6 7 0 0 2 0 0 1 0]\n",
      " [0 0 4 0 0 2 1 0 7]\n",
      " [0 9 0 1 0 0 0 0 8]\n",
      " [1 5 0 8 3 4 0 2 9]]\n"
     ]
    }
   ],
   "source": [
    "grid=input('enter sudoku') #takes in 1d sudoku eg 048301560360008090910670003020000935509010200670020010004002107090100008150834029\n",
    "grid = [int(i) for i in str(grid)]\n",
    "grid = np.asarray(grid)\n",
    "grid = grid.reshape(9,9)\n",
    "print (grid)"
   ]
  },
  {
   "cell_type": "code",
   "execution_count": 62,
   "metadata": {},
   "outputs": [
    {
     "name": "stdout",
     "output_type": "stream",
     "text": [
      "[[7 4 8 3 9 1 5 6 2]\n",
      " [3 6 5 2 4 8 7 9 1]\n",
      " [9 1 2 6 7 5 4 8 3]\n",
      " [4 2 1 7 8 6 9 3 5]\n",
      " [5 8 9 4 1 3 2 7 6]\n",
      " [6 7 3 5 2 9 8 1 4]\n",
      " [8 3 4 9 6 2 1 5 7]\n",
      " [2 9 6 1 5 7 3 4 8]\n",
      " [1 5 7 8 3 4 6 2 9]]\n"
     ]
    }
   ],
   "source": [
    "\n",
    "def check(grid, row, col, val):\n",
    "    for j in range(0, 9): #for row\n",
    "        if grid[row,j] == val:\n",
    "            return False\n",
    "\n",
    "    for i in range(0, 9): #for col\n",
    "        if grid[i,col] == val:\n",
    "            return False\n",
    "\n",
    "    startRow = (row // 3) * 3 #for square\n",
    "    startCol = (col // 3) * 3\n",
    "    for i in range(0, 3):\n",
    "        for j in range(0, 3):\n",
    "            if grid[(startRow+i),(startCol+j)] == val:\n",
    "                return False\n",
    "    return True\n",
    "\n",
    "def solve():\n",
    "    for i in range(0, 9):\n",
    "        for j in range(0, 9):\n",
    "            if grid[i,j] == 0:\n",
    "                for val in range(1, 10):\n",
    "                    if check(grid, i, j, val):\n",
    "                        grid[i,j] = val\n",
    "                        solve()\n",
    "                        grid[i,j] = 0\n",
    "                return\n",
    "    print(grid)           \n",
    "    \n",
    "\n",
    "solve()"
   ]
  }
 ],
 "metadata": {
  "kernelspec": {
   "display_name": "Python 3",
   "language": "python",
   "name": "python3"
  },
  "language_info": {
   "codemirror_mode": {
    "name": "ipython",
    "version": 3
   },
   "file_extension": ".py",
   "mimetype": "text/x-python",
   "name": "python",
   "nbconvert_exporter": "python",
   "pygments_lexer": "ipython3",
   "version": "3.10.7"
  },
  "orig_nbformat": 4
 },
 "nbformat": 4,
 "nbformat_minor": 2
}
